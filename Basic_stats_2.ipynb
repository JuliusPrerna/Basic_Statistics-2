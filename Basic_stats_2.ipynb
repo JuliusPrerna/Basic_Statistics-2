{
 "cells": [
  {
   "cell_type": "code",
   "execution_count": 3,
   "id": "8d99fba0",
   "metadata": {},
   "outputs": [],
   "source": [
    "import numpy as np\n",
    "import scipy.stats as stats"
   ]
  },
  {
   "cell_type": "markdown",
   "id": "46f048e6",
   "metadata": {},
   "source": [
    "### Given data"
   ]
  },
  {
   "cell_type": "code",
   "execution_count": 4,
   "id": "9900d88e",
   "metadata": {},
   "outputs": [],
   "source": [
    "data = [1.13, 1.55, 1.43, 0.92, 1.25, 1.36, 1.32, 0.85, 1.07, 1.48, 1.20, 1.33, 1.18, 1.22, 1.29]\n",
    "n = len(data)"
   ]
  },
  {
   "cell_type": "markdown",
   "id": "8e966df0",
   "metadata": {},
   "source": [
    "### sample standard deviation"
   ]
  },
  {
   "cell_type": "code",
   "execution_count": 5,
   "id": "8a0fa94c",
   "metadata": {},
   "outputs": [],
   "source": [
    "sample_mean = np.mean(data)\n",
    "sample_std = np.std(data, ddof=1)  \n",
    "confidence_level = 0.99\n",
    "alpha = 1 - confidence_level"
   ]
  },
  {
   "cell_type": "markdown",
   "id": "53037d1a",
   "metadata": {},
   "source": [
    "###  a. Using t-distribution (sample standard deviation)"
   ]
  },
  {
   "cell_type": "code",
   "execution_count": 6,
   "id": "2682eadb",
   "metadata": {},
   "outputs": [],
   "source": [
    "t_critical = stats.t.ppf(1 - alpha / 2, df=n - 1)\n",
    "margin_of_error_t = t_critical * (sample_std / np.sqrt(n))\n",
    "ci_t = (sample_mean - margin_of_error_t, sample_mean + margin_of_error_t)\n"
   ]
  },
  {
   "cell_type": "markdown",
   "id": "8d993da0",
   "metadata": {},
   "source": [
    "### b. Using normal distribution (population standard deviation known)"
   ]
  },
  {
   "cell_type": "code",
   "execution_count": 7,
   "id": "163b62df",
   "metadata": {},
   "outputs": [
    {
     "data": {
      "text/plain": [
       "(1.2386666666666666,\n",
       " 0.19316412956959936,\n",
       " (1.0901973384384906, 1.3871359948948425),\n",
       " (1.1056514133957607, 1.3716819199375725))"
      ]
     },
     "execution_count": 7,
     "metadata": {},
     "output_type": "execute_result"
    }
   ],
   "source": [
    "pop_std = 0.2\n",
    "z_critical = stats.norm.ppf(1 - alpha / 2)\n",
    "margin_of_error_z = z_critical * (pop_std / np.sqrt(n))\n",
    "ci_z = (sample_mean - margin_of_error_z, sample_mean + margin_of_error_z)\n",
    "\n",
    "(sample_mean, sample_std, ci_t, ci_z)"
   ]
  },
  {
   "cell_type": "code",
   "execution_count": null,
   "id": "0b8bb52e",
   "metadata": {},
   "outputs": [],
   "source": []
  }
 ],
 "metadata": {
  "kernelspec": {
   "display_name": "Python 3",
   "language": "python",
   "name": "python3"
  },
  "language_info": {
   "codemirror_mode": {
    "name": "ipython",
    "version": 3
   },
   "file_extension": ".py",
   "mimetype": "text/x-python",
   "name": "python",
   "nbconvert_exporter": "python",
   "pygments_lexer": "ipython3",
   "version": "3.12.7"
  }
 },
 "nbformat": 4,
 "nbformat_minor": 5
}
